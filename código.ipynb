{
 "cells": [
  {
   "cell_type": "code",
   "execution_count": null,
   "metadata": {},
   "outputs": [],
   "source": [
    "# pip install pyautogui"
   ]
  },
  {
   "cell_type": "code",
   "execution_count": null,
   "metadata": {},
   "outputs": [],
   "source": [
    "import pyautogui\n",
    "import time\n",
    "# pyautogui.click -> clique com o mouse\n",
    "# pyautogui.write -> escrever um texto\n",
    "# pyautogui.press -> apertar uma tecla\n",
    "# pyautogui.hotkey -> apertar uma combinação de teclas (ex: Ctrl + D)\n",
    "# Passo a passo (parte lógica do processo)\n",
    "\n",
    "pyautogui.PAUSE = 1\n",
    "    \n",
    "# Passo 1: Entrar no sistema da empresa (no link)\n",
    "pyautogui.hotkey (\"ctrl\", \"t\")\n",
    "pyautogui.write (\"https://pages.hashtagtreinamentos.com/aula1-intensivao-sistema\")\n",
    "pyautogui.press (\"enter\")\n",
    "\n",
    "# Pode ser que o navegador tenha que carregar\n",
    "time.sleep (4)\n",
    "\n",
    "# Passo 2: Fazer login\n",
    "# Clicar no espaço de login e escrever o login\n",
    "pyautogui.click (x=666, y=378)\n",
    "pyautogui.write (\"meu_login\")\n",
    "\n",
    "# Clicar e preencher o campo de senha \n",
    "pyautogui.click (x=684, y=453)\n",
    "pyautogui.write (\"minha_senha\")\n",
    "\n",
    "# Clicar em acessar\n",
    "pyautogui.click (x=700, y=523)\n",
    "\n",
    "time.sleep (8)\n",
    "\n",
    "# Passo 3: Exportar a base da dados\n",
    "pyautogui.click (x=418, y=474) # clicar no arquivo de compras\n",
    "pyautogui.click (x=695, y=199) # clicar nos 3 pontinhos\n",
    "pyautogui.click (x=779, y=603) # fazer o download do arquivo\n",
    "time.sleep (7)"
   ]
  },
  {
   "cell_type": "code",
   "execution_count": null,
   "metadata": {},
   "outputs": [],
   "source": [
    "# time.sleep (5)\n",
    "# print(pyautogui.position())"
   ]
  },
  {
   "cell_type": "code",
   "execution_count": null,
   "metadata": {},
   "outputs": [],
   "source": [
    "# Passo 4: Calcular os indicadores e fazer o tratamento dos valores obtidos\n",
    "import pandas as pd\n",
    "\n",
    "tabela = pd.read_csv (r\"C:/Users/diego/Downloads/Compras.csv\", sep=\";\")\n",
    "display(tabela)\n",
    "total_gasto = tabela [\"ValorFinal\"].sum()\n",
    "quantidade = tabela [\"Quantidade\"].sum()\n",
    "preco_medio = total_gasto / quantidade\n",
    "print (total_gasto)\n",
    "print (quantidade)\n",
    "print (preco_medio)"
   ]
  },
  {
   "cell_type": "code",
   "execution_count": null,
   "metadata": {},
   "outputs": [],
   "source": [
    "import pyperclip\n",
    "# Passo 5: Enviar um e-mail para o meu chefe\n",
    "# entrar no e-mail: https://mail.google.com/mail/u/0/#inbox\n",
    "pyautogui.hotkey (\"Ctrl\", \"t\")\n",
    "pyautogui.write (\"https://mail.google.com/mail/u/0/#inbox\")\n",
    "pyautogui.press (\"enter\")\n",
    "time.sleep (10)\n",
    "\n",
    "# clicar no botão escrever \n",
    "pyautogui.click (x=76, y=198)\n",
    "\n",
    "time.sleep (5)\n",
    "\n",
    "# caso demore para o escrver ser executado\n",
    "pyautogui.PAUSE = 2\n",
    "\n",
    "# preencher as informações do email\n",
    "pyautogui.write (\"diegovm.pereira92@gmail.com\")\n",
    "pyautogui.press (\"tab\") # escolher o destinatario \n",
    "\n",
    "pyautogui.press (\"tab\") # passar para o campo de assunto\n",
    "pyperclip.copy (\" Relatório de Vendas\")\n",
    "pyautogui.hotkey (\"ctrl\", \"v\")\n",
    "\n",
    "pyautogui.press (\"tab\") # passando para o corpo do email\n",
    "\n",
    "texto = f\"\"\"\n",
    "Prezado Chefe,\n",
    "Segue o relatório de compras\n",
    "\n",
    "Total gasto: R${total_gasto:,.2f}\n",
    "Quantidade de produtos: {quantidade:,}\n",
    "Preço Médio: R${preco_medio:,.2f}\n",
    "\n",
    "Qualquer dúvida, favor entrar em contato através deste mesmo email.\n",
    "Att., Diego Vinicius\n",
    "\"\"\"\n",
    "\n",
    "pyperclip.copy (texto)\n",
    "pyautogui.hotkey (\"ctrl\", \"v\")\n",
    "\n",
    "# enviar o email\n",
    "pyautogui.hotkey (\"ctrl\", \"enter\")"
   ]
  }
 ],
 "metadata": {
  "language_info": {
   "name": "python"
  },
  "orig_nbformat": 4
 },
 "nbformat": 4,
 "nbformat_minor": 2
}
